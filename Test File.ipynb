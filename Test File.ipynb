{
 "cells": [
  {
   "cell_type": "code",
   "execution_count": 1,
   "id": "52b7fd27-28e7-4587-b61d-ec19a285b869",
   "metadata": {},
   "outputs": [],
   "source": [
    "# If package is in same directory\n",
    "import sys\n",
    "sys.path.append(\"./mypackage\")"
   ]
  },
  {
   "cell_type": "code",
   "execution_count": 2,
   "id": "b8106b17-51a2-4319-a627-0c3097b54ffa",
   "metadata": {},
   "outputs": [
    {
     "name": "stdout",
     "output_type": "stream",
     "text": [
      "['.anaconda', '.bash_history', '.cache', '.conda', '.condarc', '.continuum', '.docker', '.ipynb_checkpoints', '.ipython', '.jupyter', '.node_repl_history', '.ollama', '.python_history', '.rustup', '.vscode', '.wslconfig', '3D Objects', 'AppData', 'Application Data', 'Charan Sai B - Computer Profile - Copy.pdf', 'Charan Sai B - Computer Profile - Copy_decrypted.pdf', 'chatbot-project', 'cleaned_studentdb.sql', 'Contacts', 'Cookies', 'Desktop', 'docker-compose.yaml', 'Documents', 'Downloads', 'Favorites', 'File.ipynb', 'get-pip.py', 'groq_chatbot.ipynb', 'hhhh', 'image.png', 'IntelGraphicsProfiles', 'jupyter_env', 'langchain_chatbot', 'langchain_chatbot - Copy', 'Links', 'Local Settings', 'multi-container-app', 'Music', 'My Documents', 'mypackage', 'NetHood', 'NTUSER.DAT', 'ntuser.dat.LOG1', 'ntuser.dat.LOG2', 'NTUSER.DAT{53b39e88-18c4-11ea-a811-000d3aa4692b}.TM.blf', 'NTUSER.DAT{53b39e88-18c4-11ea-a811-000d3aa4692b}.TMContainer00000000000000000001.regtrans-ms', 'NTUSER.DAT{53b39e88-18c4-11ea-a811-000d3aa4692b}.TMContainer00000000000000000002.regtrans-ms', 'ntuser.ini', 'OneDrive', 'Pictures', 'PrintHood', 'Recent', 'sample.txt', 'Saved Games', 'Searches', 'SendTo', 'Start Menu', 'studentdb.sql', 'Templates', 'test.ipynb', 'Testing', 'Text to SQL.ipynb', 'Untitled.ipynb', 'Videos', 'welcome-to-docker']\n"
     ]
    }
   ],
   "source": [
    "import os\n",
    "print(os.listdir())\n"
   ]
  },
  {
   "cell_type": "markdown",
   "id": "2a4e782d-b296-473f-8bcd-c0c667f88803",
   "metadata": {},
   "source": [
    "## =========== Encrypt/Decrypt ================"
   ]
  },
  {
   "cell_type": "code",
   "execution_count": 3,
   "id": "d3331552-b8cf-44cb-b2ab-0aab0cfb092b",
   "metadata": {},
   "outputs": [
    {
     "name": "stdout",
     "output_type": "stream",
     "text": [
      "secret message\n"
     ]
    }
   ],
   "source": [
    "from mypackage.crypto import encrypt_string, decrypt_string, generate_key\n",
    "\n",
    "key = generate_key(\"aes\")\n",
    "ciphertext = encrypt_string(\"secret message\", key)\n",
    "plaintext = decrypt_string(ciphertext, key)\n",
    "\n",
    "print(plaintext.decode())  # should show: secret message\n"
   ]
  },
  {
   "cell_type": "markdown",
   "id": "3ceb2046-21a6-4b33-b0b6-928f6795dbd9",
   "metadata": {},
   "source": [
    "## ------- Symmetric Encrypt/Decrypt ----------------"
   ]
  },
  {
   "cell_type": "markdown",
   "id": "a9e764c3-4937-4ef4-a3e5-c37a98439f86",
   "metadata": {},
   "source": [
    "## ------- Encryption and Decryption with any file ----------------"
   ]
  },
  {
   "cell_type": "code",
   "execution_count": 1,
   "id": "a26c9789-cb38-4627-bca0-5363d0158e4e",
   "metadata": {},
   "outputs": [
    {
     "name": "stdout",
     "output_type": "stream",
     "text": [
      "b\"\\xa5W\\xac\\xc8\\\\\\xba\\xcb\\x84\\x9b\\t\\xd8\\x11]\\x14\\x18\\xd5\\x90'\\xb9:INv;|aQ\\xf9\\xe9\\xb7PO\"\n",
      "False\n",
      "[✔] File encrypted: hhhh\n"
     ]
    }
   ],
   "source": [
    "from mypackage.crypto import generate_key, encrypt_file, decrypt_file\n",
    "\n",
    "input_file = \"image.png\"\n",
    "encrypted_file = \"hhhh\"\n",
    "decrypted_file = \"Charan Sai B - Computer Profile - Copy_decrypted.pdf\"\n",
    "\n",
    "# Generate AES key\n",
    "key = generate_key(\"aes\")\n",
    "salt = False\n",
    "# Encrypt the image\n",
    "encrypt_file(input_file, key, method=\"aes\", salt=salt, out_filename=encrypted_file)\n",
    "print(key)\n",
    "print(salt)\n",
    "print(f\"[✔] File encrypted: {encrypted_file}\")\n"
   ]
  },
  {
   "cell_type": "code",
   "execution_count": 6,
   "id": "d6c52dbf-22e3-485c-a7f4-e8e33dfdc963",
   "metadata": {},
   "outputs": [
    {
     "name": "stdout",
     "output_type": "stream",
     "text": [
      "[DEBUG] Removing Salt: 255044462d312e340a25d3ebe9e10a31\n",
      "[✔] File decrypted: Charan Sai B - Computer Profile - Copy_decrypted.pdf\n"
     ]
    }
   ],
   "source": [
    "# Decrypt the image\n",
    "decrypt_file(encrypted_file, key, method=\"aes\", salt=True, out_filename=decrypted_file)\n",
    "print(f\"[✔] File decrypted: {decrypted_file}\")"
   ]
  },
  {
   "cell_type": "markdown",
   "id": "f07b3344-6751-44ae-aa93-a395be29eaa0",
   "metadata": {},
   "source": [
    "# ------- Encryption and Decryption with any folder ---------------"
   ]
  },
  {
   "cell_type": "code",
   "execution_count": 7,
   "id": "c37037cd-a93a-4099-97c1-64d8ee9ea9cc",
   "metadata": {},
   "outputs": [
    {
     "name": "stdout",
     "output_type": "stream",
     "text": [
      "[✔] Compressed: Testing/langchain_chatbot - Copy.zip\n"
     ]
    }
   ],
   "source": [
    "from mypackage.crypto import generate_key, encrypt_file, decrypt_file\n",
    "from mypackage.compressor import compress_folder, decompress_file\n",
    "import os\n",
    "\n",
    "folder = \"Testing/langchain_chatbot - Copy\"\n",
    "key = generate_key(\"aes\")\n",
    "\n",
    "# 1. Compress\n",
    "zip_path = compress_folder(folder)\n",
    "print(f\"[✔] Compressed: {zip_path}\")\n",
    "\n"
   ]
  },
  {
   "cell_type": "code",
   "execution_count": 8,
   "id": "6ef4e827-487e-4752-b5f7-a2d7c83393ef",
   "metadata": {},
   "outputs": [
    {
     "name": "stdout",
     "output_type": "stream",
     "text": [
      "[DEBUG] Applying Salt: 91bc7996dad12b2bec951b2bb89dcd3e\n",
      "[✔] Encrypted: Testing/langchain_chatbot - Copy.zip.enc\n"
     ]
    }
   ],
   "source": [
    "# 2. Encrypt\n",
    "encrypted = zip_path + \".enc\"\n",
    "encrypt_file(zip_path, key, method=\"aes\", salt=True, out_filename=encrypted)\n",
    "print(f\"[✔] Encrypted: {encrypted}\")\n"
   ]
  },
  {
   "cell_type": "code",
   "execution_count": 9,
   "id": "6e2376ac-9172-4c04-a423-a53602407c50",
   "metadata": {},
   "outputs": [
    {
     "name": "stdout",
     "output_type": "stream",
     "text": [
      "[DEBUG] Removing Salt: 91bc7996dad12b2bec951b2bb89dcd3e\n",
      "[✔] Decrypted: Testing/langchain_chatbot - Copy.zip.dec.zip\n"
     ]
    }
   ],
   "source": [
    "# 3. Decrypt\n",
    "decrypted = zip_path + \".dec.zip\"  # ✔ Correct extension for zip\n",
    "decrypt_file(encrypted, key, method=\"aes\", salt=True, out_filename=decrypted)\n",
    "print(f\"[✔] Decrypted: {decrypted}\")\n"
   ]
  },
  {
   "cell_type": "code",
   "execution_count": 10,
   "id": "5d6b050c-5969-4533-b782-831eb11b7508",
   "metadata": {},
   "outputs": [
    {
     "name": "stdout",
     "output_type": "stream",
     "text": [
      "[✔] Decompressed to: Testing/langchain_chatbot - Copy.zip.dec_unzipped\n"
     ]
    }
   ],
   "source": [
    "# 4. Decompress\n",
    "decompressed_path = decompress_file(decrypted)\n",
    "print(f\"[✔] Decompressed to: {decompressed_path}\")"
   ]
  },
  {
   "cell_type": "markdown",
   "id": "ec5b5a99-1581-40bc-a7fe-666a312ecee7",
   "metadata": {},
   "source": [
    "## ------- Asymmetric Encrypt/Decrypt ---------"
   ]
  },
  {
   "cell_type": "code",
   "execution_count": 11,
   "id": "cb214744-c35f-43ed-ae54-f7ed20863bfa",
   "metadata": {},
   "outputs": [
    {
     "name": "stdout",
     "output_type": "stream",
     "text": [
      "[DEBUG] Applying Salt: 2cf170218714cd4b8c720a2b6e7ac7b9\n",
      "[✔] Encrypted: image.png.enc\n",
      "[DEBUG] Removing Salt: 2cf170218714cd4b8c720a2b6e7ac7b9\n",
      "[✔] Decrypted: decrypted_image.png\n",
      "✅ Decryption successful and matches original\n"
     ]
    }
   ],
   "source": [
    "from mypackage.crypto import generate_keypair, hybrid_encrypt_file, hybrid_decrypt_file\n",
    "import os\n",
    "\n",
    "# ecc, rsa, \n",
    "\n",
    "\n",
    "# Generate keypair\n",
    "private_key, public_key = generate_keypair(method='ecc')\n",
    "\n",
    "# File to encrypt\n",
    "input_file = \"image.png\"  # or any test file you have\n",
    "encrypted_file = input_file + \".enc\"\n",
    "decrypted_file = \"decrypted_\"+os.path.basename(input_file)  \n",
    "\n",
    "# Encrypt with RSA hybrid\n",
    "hybrid_encrypt_file(filename=input_file,pub_key=public_key,method='ecc',salt=True,out_filename=encrypted_file)\n",
    "print(f\"[✔] Encrypted: {encrypted_file}\")\n",
    "\n",
    "# Decrypt with RSA hybrid\n",
    "hybrid_decrypt_file(filename=encrypted_file,priv_key=private_key,method='ecc',salt=True,out_filename=decrypted_file)\n",
    "print(f\"[✔] Decrypted: {decrypted_file}\")\n",
    "\n",
    "# Verify\n",
    "if open(input_file, 'rb').read() == open(decrypted_file, 'rb').read():\n",
    "    print(\"✅ Decryption successful and matches original\")\n",
    "else:\n",
    "    print(\"❌ Decryption failed or content mismatch\")\n"
   ]
  },
  {
   "cell_type": "markdown",
   "id": "182fb2b2-f793-417b-87b9-d8d9f816e0ae",
   "metadata": {},
   "source": [
    "## =========== Encoding and Decoding ================="
   ]
  },
  {
   "cell_type": "markdown",
   "id": "4bb13a6e-5e84-4b22-a23e-b3cac0f607da",
   "metadata": {},
   "source": [
    "\t                            \n",
    "Base64-->Converts binary/text to printable text.\n",
    "\n",
    "URL-->Converts unsafe URL characters to %xx\t         \n",
    "\n",
    "HTML-->Converts characters like < to &lt;\t             \n",
    "\n",
    "ASCII-->Converts characters to ASCII codes\t             \n",
    "\n",
    "UTF-8-->Unicode to UTF-8 bytes\t                         \n",
    "\n",
    "Binary-->Text to 0s and 1s\t                             \n",
    "\n",
    "Morse code-->Text to dots and dashes                          "
   ]
  },
  {
   "cell_type": "code",
   "execution_count": 12,
   "id": "18dbc716-4dd1-4ed4-bcee-4108a93f69f8",
   "metadata": {},
   "outputs": [
    {
     "name": "stdout",
     "output_type": "stream",
     "text": [
      "[DEBUG] Applying Salt: 5cbded334c9624426e9dde51c1405fb7\n",
      "[DEBUG] Removing Salt: 5cbded334c9624426e9dde51c1405fb7\n",
      "Original File  : image.png\n",
      "Encoded File   : image.png.enc\n",
      "Decoded File   : image_decoding.png\n"
     ]
    }
   ],
   "source": [
    "from mypackage.encoder import encode_file, decode_file\n",
    "\n",
    "original = \"image.png\"\n",
    "encoded = \"image.png.enc\"\n",
    "decoded = \"image_decoding.png\"\n",
    "\n",
    "# Encode and decode\n",
    "encode_file(original, encoded, encoding=\"base64\", salted=True)\n",
    "decode_file(encoded, decoded, encoding=\"base64\", salted=True)\n",
    "\n",
    "print(\"Original File  :\", original)\n",
    "print(\"Encoded File   :\", encoded)\n",
    "print(\"Decoded File   :\", decoded)\n"
   ]
  },
  {
   "cell_type": "code",
   "execution_count": 13,
   "id": "c11eb63e-d4fd-43b4-950f-1c16e5919c88",
   "metadata": {},
   "outputs": [
    {
     "name": "stdout",
     "output_type": "stream",
     "text": [
      "[DEBUG] Applying Salt: 911c9397977ebf63d5190f73b5263e2e\n",
      "[DEBUG] Removing Salt: 911c9397977ebf63d5190f73b5263e2e\n",
      "With Salt [base64] → Encoded: kRyTl5d+v2PVGQ9ztSY+LkhlbGxvMTIz | Decoded: Hello123\n",
      "Without Salt [base64] → Encoded: SGVsbG8xMjM= | Decoded: Hello123\n",
      "===========================================\n",
      "[DEBUG] Applying Salt: 7d57c84e7fea26f1271d3bb2327fa6b4\n",
      "[DEBUG] Removing Salt: 7d57c84e7fea26f1271d3bb2327fa6b4\n",
      "With Salt [url] → Encoded: %7DW%C8N%7F%EA%26%F1%27%1D%3B%B22%7F%A6%B4Hello123 | Decoded: Hello123\n",
      "Without Salt [url] → Encoded: Hello123 | Decoded: Hello123\n",
      "===========================================\n",
      "[DEBUG] Applying Salt: 8594d60d67dc248d8c06fc7b87b46cdc\n",
      "[DEBUG] Removing Salt: 0d6724067b6c48656c6c6f313233\n",
      "g$\u0006{lHello123 | Decoded: d: \n",
      "Without Salt [html] → Encoded: Hello123 | Decoded: Hello123\n",
      "===========================================\n",
      "[DEBUG] Applying Salt: a67e2372eaf4016c346c00714d7c7943\n",
      "[DEBUG] Removing Salt: 7e2372016c346c00714d7c794348656c\n",
      "With Salt [utf-8] → Encoded: ~#r\u0001l4l\u0000qM|yCHello123 | Decoded: lo123\n",
      "Without Salt [utf-8] → Encoded: Hello123 | Decoded: Hello123\n",
      "===========================================\n",
      "[DEBUG] Applying Salt: 4fdf992f85c28175b5dd09d4a254bc45\n",
      "[DEBUG] Removing Salt: 4f3f3f3f3f3f3f553f3f3f3f3f543f45\n",
      "With Salt [morse] → Encoded: --- ? ? ? ? ? ? ..- ? ? ? ? ? - ? . .... . .-.. .-.. --- .---- ..--- ...-- | Decoded: HELLO123\n",
      "Without Salt [morse] → Encoded: .... . .-.. .-.. --- .---- ..--- ...-- | Decoded: HELLO123\n",
      "===========================================\n",
      "[DEBUG] Applying Salt: 10073945195730540ec466785acbdab1\n",
      "[DEBUG] Removing Salt: 3f3f39453f5730543f3f66785a3f3f3f\n",
      "With Salt [ascii] → Encoded: ??9E?W0T??fxZ???Hello123 | Decoded: Hello123\n",
      "Without Salt [ascii] → Encoded: Hello123 | Decoded: Hello123\n",
      "===========================================\n",
      "[DEBUG] Applying Salt: b7ee7d5daa7626c784e285727ac8c821\n",
      "[DEBUG] Removing Salt: b7ee7d5daa7626c784e285727ac8c821\n",
      "With Salt [binary] → Encoded: 10110111 11101110 01111101 01011101 10101010 01110110 00100110 11000111 10000100 11100010 10000101 01110010 01111010 11001000 11001000 00100001 01001000 01100101 01101100 01101100 01101111 00110001 00110010 00110011 | Decoded: Hello123\n",
      "Without Salt [binary] → Encoded: 01001000 01100101 01101100 01101100 01101111 00110001 00110010 00110011 | Decoded: Hello123\n",
      "===========================================\n"
     ]
    }
   ],
   "source": [
    "from mypackage.encoder import encode_string, decode_string\n",
    "\n",
    "text = \"Hello123\"\n",
    "encodings = [\"base64\", \"url\", \"html\", \"utf-8\", \"morse\", \"ascii\", \"binary\"]\n",
    "\n",
    "for enc in encodings:\n",
    "    encoded = encode_string(text, encoding=enc, salt=True)\n",
    "    decoded = decode_string(encoded, encoding=enc, salted=True)\n",
    "    print(\"With Salt\",f\"[{enc}] → Encoded: {encoded} | Decoded: {decoded}\")\n",
    "    encoded = encode_string(text, encoding=enc, salt=False)\n",
    "    decoded = decode_string(encoded, encoding=enc, salted=False)\n",
    "    print(\"Without Salt\",f\"[{enc}] → Encoded: {encoded} | Decoded: {decoded}\")\n",
    "    print(\"===========================================\")\n"
   ]
  },
  {
   "cell_type": "markdown",
   "id": "939e35c1-5206-40f9-b475-32b06d2e54a8",
   "metadata": {},
   "source": [
    "# ========== HASHING =========="
   ]
  },
  {
   "cell_type": "code",
   "execution_count": 14,
   "id": "668b6d4e-c964-41be-8886-c93a3838e7b2",
   "metadata": {},
   "outputs": [
    {
     "name": "stdout",
     "output_type": "stream",
     "text": [
      "\n",
      "🔐 MD5 (salt=False)\n",
      "Hash: 1d9778d065783c235387b9fcf478dfba\n",
      "✅ Match: True\n",
      "🔐 MD5 (salt=True)\n",
      "Hash: 94e83d0f244682f4ddd58f7aa72cf964\n",
      "✅ Match: True\n",
      "\n",
      "🔐 SHA1 (salt=False)\n",
      "Hash: 0d0cf2cec8f0f747bb6c598ad06e0a1c11de6e51\n",
      "✅ Match: True\n",
      "🔐 SHA1 (salt=True)\n",
      "Hash: 1132f0d8df545f33d501a357f5e26ba858a146be\n",
      "✅ Match: True\n",
      "\n",
      "🔐 SHA256 (salt=False)\n",
      "Hash: 4aa211b29732b921b17e65153ce1672babd74e62a32082a41dd1d82ab9c6be37\n",
      "✅ Match: True\n",
      "🔐 SHA256 (salt=True)\n",
      "Hash: 39f2e3a42029ee50a8f92e32b4391cf0eb1e4249b2dc72cc86dc7f6be3b92221\n",
      "✅ Match: True\n",
      "\n",
      "🔐 SHA512 (salt=False)\n",
      "Hash: b6d72cc2d57257a2d97d9445739362198dbff01daffc6daff83653869b25e25c3449d8977aff80705521608cad5b490bb083ce4bb6b3274d497e4a21f3aeecea\n",
      "✅ Match: True\n",
      "🔐 SHA512 (salt=True)\n",
      "Hash: 984d4c7083501517a726added61550700c84acbf24ab625169a5999a5d7cc974d062d990f48f07c3ac9215378387488095c368113c055f7727b20ada39d4a543\n",
      "✅ Match: True\n",
      "\n",
      "🔐 BLAKE2B (salt=False)\n",
      "Hash: ba6b6f4ac76da9b91201f117822bbc6c08b10bb981f5556dc6c4572953faf3ac76eb048e354736648c7e7a45bfee67def8fed2ef9f3a8eb013fc635a79fea4cb\n",
      "✅ Match: True\n",
      "🔐 BLAKE2B (salt=True)\n",
      "Hash: deb2fa2df973d99e3cb795b4256ba5709e8d872903c8057ad90b15893e5a6df4ed27dc767afd6ed73fb07c62205743cc48fa0258cc358dcc42f8250a7ed05e17\n",
      "✅ Match: True\n",
      "\n",
      "🔐 BLAKE2S (salt=False)\n",
      "Hash: cea36614e888d85186411cf895c358c9b9b9a0263dca3459cf20b9347bb8a737\n",
      "✅ Match: True\n",
      "🔐 BLAKE2S (salt=True)\n",
      "Hash: a8e8f4315c434c83352d572c6e5c7c91df476010da061f555643a03e711227f3\n",
      "✅ Match: True\n",
      "\n",
      "🔐 HMAC (salt=False)\n",
      "Hash: bed2b1b94cdbaad498930ae1d5832a854cbfce71fa72df1331f9b1a930a6d701\n",
      "✅ Match: True\n",
      "🔐 HMAC (salt=True)\n",
      "Hash: 7310e16e745647911ecf4984864621e15ff5c4f36253a9d9ecdd0d074564d414\n",
      "✅ Match: True\n"
     ]
    }
   ],
   "source": [
    "from mypackage.hasher import hash_data, verify_hash\n",
    "\n",
    "text = \"MySuperSecretPassword123!\"\n",
    "algos = [\"md5\", \"sha1\", \"sha256\", \"sha512\", \"blake2b\", \"blake2s\", \"hmac\"]\n",
    "\n",
    "salt = \"SALT123\"\n",
    "\n",
    "for algo in algos:\n",
    "    print(f\"\\n🔐 {algo.upper()} (salt=False)\")\n",
    "    hashed_no_salt = hash_data(text, algorithm=algo)\n",
    "    print(\"Hash:\", hashed_no_salt)\n",
    "    print(\"✅ Match:\", verify_hash(text, hashed_no_salt, algorithm=algo))\n",
    "\n",
    "    print(f\"🔐 {algo.upper()} (salt=True)\")\n",
    "    hashed_with_salt = hash_data(text, algorithm=algo, salt=salt)\n",
    "    print(\"Hash:\", hashed_with_salt)\n",
    "    print(\"✅ Match:\", verify_hash(text, hashed_with_salt, algorithm=algo, salt=salt))\n"
   ]
  },
  {
   "cell_type": "code",
   "execution_count": null,
   "id": "762a0192-4798-439a-89a5-4a2c1c5aa7ec",
   "metadata": {},
   "outputs": [],
   "source": []
  },
  {
   "cell_type": "code",
   "execution_count": null,
   "id": "2cd30d43-3b41-44c2-98af-f377a90b6a0c",
   "metadata": {},
   "outputs": [],
   "source": []
  }
 ],
 "metadata": {
  "kernelspec": {
   "display_name": "Python 3 (ipykernel)",
   "language": "python",
   "name": "python3"
  },
  "language_info": {
   "codemirror_mode": {
    "name": "ipython",
    "version": 3
   },
   "file_extension": ".py",
   "mimetype": "text/x-python",
   "name": "python",
   "nbconvert_exporter": "python",
   "pygments_lexer": "ipython3",
   "version": "3.13.5"
  }
 },
 "nbformat": 4,
 "nbformat_minor": 5
}
